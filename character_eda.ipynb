{
 "cells": [
  {
   "cell_type": "markdown",
   "id": "f70d8feb",
   "metadata": {},
   "source": [
    "# Characters"
   ]
  },
  {
   "cell_type": "code",
   "execution_count": 1,
   "id": "890c6bb9",
   "metadata": {},
   "outputs": [],
   "source": [
    "import os\n",
    "from homoglypher.process_data import HomoglyphJSON\n",
    "import pandas as pd\n",
    "import numpy as np\n",
    "import matplotlib.pyplot as plt"
   ]
  },
  {
   "cell_type": "markdown",
   "id": "c7fe3d46",
   "metadata": {},
   "source": [
    "## Preliminaries\n",
    "\n",
    "Build a record for each font file"
   ]
  },
  {
   "cell_type": "code",
   "execution_count": 2,
   "id": "258b9070",
   "metadata": {},
   "outputs": [],
   "source": [
    "indir = \"data_googlefonts\"\n",
    "fnames = os.listdir(indir)\n",
    "\n",
    "records = []\n",
    "for f in fnames:\n",
    "    r = HomoglyphJSON(f, indir)\n",
    "    records.append(r.record)"
   ]
  },
  {
   "cell_type": "markdown",
   "id": "ce6064de",
   "metadata": {},
   "source": [
    "Compile into a big dataframe"
   ]
  },
  {
   "cell_type": "code",
   "execution_count": 3,
   "id": "b6d1eade",
   "metadata": {},
   "outputs": [
    {
     "name": "stdout",
     "output_type": "stream",
     "text": [
      "Number of entries: 146,654\n"
     ]
    }
   ],
   "source": [
    "fonts = pd.concat([r for r in records])\n",
    "print(f\"Number of entries: {len(fonts):,}\")"
   ]
  },
  {
   "cell_type": "markdown",
   "id": "12ad5ee8",
   "metadata": {},
   "source": [
    "## Character pair metrics\n",
    "\n",
    "How often do characters appear together across the whole dataset? First, group by filename, then homoglyph, then decimal. Make a co-occurrence matrix and stack it. Return all nonzero pairs"
   ]
  },
  {
   "cell_type": "code",
   "execution_count": null,
   "id": "738a7a0a",
   "metadata": {},
   "outputs": [],
   "source": [
    "grouped = (\n",
    "    fonts\n",
    "    .groupby(['FILE', 'GROUP', 'DEC'])\n",
    "    .size()\n",
    "    .unstack()\n",
    "    .fillna(0)\n",
    ")\n",
    "\n",
    "coocc = grouped.T.dot(grouped)\n",
    "np.fill_diagonal(coocc.values, 0)"
   ]
  },
  {
   "cell_type": "markdown",
   "id": "a31132bd",
   "metadata": {},
   "source": [
    "Now we can stack the co-occurences and return a dataframe of character-to-character counts. From that, we'll filter out 0 values"
   ]
  },
  {
   "cell_type": "code",
   "execution_count": null,
   "id": "f55cf8b2",
   "metadata": {},
   "outputs": [],
   "source": [
    "pairs = pd.DataFrame(coocc.stack())\n",
    "pairs = (\n",
    "    pairs\n",
    "    .reset_index(level=0)\n",
    "    .rename(columns={'DEC': 'PAIR', 0: 'COUNT'})\n",
    "    .reset_index()\n",
    ")\n",
    "pairs = pairs[pairs['COUNT'] > 0]"
   ]
  },
  {
   "cell_type": "code",
   "execution_count": null,
   "id": "104b06ed",
   "metadata": {},
   "outputs": [],
   "source": [
    "pairs.head(5)"
   ]
  },
  {
   "cell_type": "markdown",
   "id": "023d1e4a",
   "metadata": {},
   "source": [
    "With the counts made, we can find the conditional probability of one character pairing with another. First, create a long table that has a row for every character-character count"
   ]
  },
  {
   "cell_type": "code",
   "execution_count": null,
   "id": "e18dd946",
   "metadata": {},
   "outputs": [],
   "source": [
    "long = pairs[['DEC', 'PAIR']].apply(lambda x: np.repeat(x, pairs['COUNT']))"
   ]
  },
  {
   "cell_type": "markdown",
   "id": "e4d429e8",
   "metadata": {},
   "source": [
    "Now this can be fed through `pd.crosstab()`. As above, we'll also filter out 0 values"
   ]
  },
  {
   "cell_type": "code",
   "execution_count": null,
   "id": "fe484aa6",
   "metadata": {},
   "outputs": [],
   "source": [
    "pair_probs = (\n",
    "    pd.crosstab(long['DEC'], long['PAIR'], normalize='index')\n",
    "    .stack()\n",
    "    .reset_index()\n",
    "    .rename(columns={0: 'PROB'})\n",
    ")\n",
    "pair_probs = pair_probs[pair_probs['PROB'] > 0]"
   ]
  },
  {
   "cell_type": "markdown",
   "id": "dc1eb659",
   "metadata": {},
   "source": [
    "Now we can stick these probabilities back onto the dataframe of pairs"
   ]
  },
  {
   "cell_type": "code",
   "execution_count": null,
   "id": "632bfbbc",
   "metadata": {},
   "outputs": [],
   "source": [
    "pairs = pd.merge(pairs, pair_probs)"
   ]
  },
  {
   "cell_type": "markdown",
   "id": "80ae9354",
   "metadata": {},
   "source": [
    "## Pair counts\n",
    "\n",
    "A quick overview of raw pair counts. Here are some highly occurent characters"
   ]
  },
  {
   "cell_type": "code",
   "execution_count": null,
   "id": "6b0f2a1c",
   "metadata": {},
   "outputs": [],
   "source": [
    "quant = 0.95\n",
    "high_quant = pairs['COUNT'].quantile(quant)\n",
    "\n",
    "print(\n",
    "    \"The number of pairs:\",\n",
    "    f\"\\n+ Mean: {pairs['COUNT'].mean():.02f}\",\n",
    "    f\"\\n+ Standard deviation: {pairs['COUNT'].std():.02f}\",\n",
    "    f\"\\n+ Variance: {pairs['COUNT'].var():.02f}\",\n",
    "    f\"\\n+ {quant} quantile: {high_quant:.02f}\"\n",
    ")"
   ]
  },
  {
   "cell_type": "code",
   "execution_count": null,
   "id": "097da61b",
   "metadata": {},
   "outputs": [],
   "source": [
    "pair_counts = (pairs\n",
    " .assign(CHAR=pairs['DEC'].apply(chr))\n",
    " .sort_values('COUNT', ascending=False)\n",
    " .drop(columns=['PROB'])\n",
    " .reindex(columns=['DEC', 'PAIR', 'CHAR', 'COUNT'])\n",
    ")\n",
    "pair_counts.head(25)"
   ]
  },
  {
   "cell_type": "code",
   "execution_count": null,
   "id": "0b852c4f",
   "metadata": {},
   "outputs": [],
   "source": [
    "pair_counts['COUNT'].hist(figsize=(15,5), bins=100);"
   ]
  },
  {
   "cell_type": "markdown",
   "id": "dda3cb74",
   "metadata": {},
   "source": [
    "How many times does a decimal appear in a pair? Here's something interesting: font files tend to map glyphs onto lower code points (rather than the other way around)"
   ]
  },
  {
   "cell_type": "code",
   "execution_count": null,
   "id": "12338d2b",
   "metadata": {},
   "outputs": [],
   "source": [
    "dec_counts = (\n",
    "    pair_counts\n",
    "    .groupby('DEC')\n",
    "    .size()\n",
    "    .sort_values(ascending=False)\n",
    ")\n",
    "pd.DataFrame({\n",
    "    'CHAR': dec_counts.index.map(chr),\n",
    "    'COUNT': dec_counts\n",
    "}).head(25)"
   ]
  },
  {
   "cell_type": "markdown",
   "id": "4c713d38",
   "metadata": {},
   "source": [
    "## Pair probabilities\n",
    "\n",
    "Let's look at probabilities"
   ]
  },
  {
   "cell_type": "code",
   "execution_count": null,
   "id": "745469d3",
   "metadata": {},
   "outputs": [],
   "source": [
    "quant = 0.95\n",
    "high_quant = pairs['PROB'].quantile(quant)\n",
    "\n",
    "print(\n",
    "    \"The probability that a character is a homoglyph for another:\",\n",
    "    f\"\\n+ Mean: {pairs['PROB'].mean():.02f}\",\n",
    "    f\"\\n+ Standard deviation: {pairs['PROB'].std():.02f}\",\n",
    "    f\"\\n+ Variance: {pairs['PROB'].var():.02f}\",\n",
    "    f\"\\n+ {quant} quantile: {high_quant:.02f}\"\n",
    ")"
   ]
  },
  {
   "cell_type": "code",
   "execution_count": null,
   "id": "a9a0dbe4",
   "metadata": {},
   "outputs": [],
   "source": [
    "pairs['PROB'].hist(figsize=(15,5), bins=100);"
   ]
  },
  {
   "cell_type": "markdown",
   "id": "7fedff6c",
   "metadata": {},
   "source": [
    "Pairs with a probability that's one standard deviation away from the mean"
   ]
  },
  {
   "cell_type": "code",
   "execution_count": null,
   "id": "4d0a4777",
   "metadata": {},
   "outputs": [],
   "source": [
    "sigma = pairs['PROB'].mean() + pairs['PROB'].std()\n",
    "\n",
    "high_prob = pairs[pairs['PROB'] >= sigma]\n",
    "high_prob = high_prob.sort_values(['PROB', 'COUNT'], ascending=False)"
   ]
  },
  {
   "cell_type": "markdown",
   "id": "ea83872e",
   "metadata": {},
   "source": [
    "With `COUNT` and `PROB` in mind, some of these top pairs seem like they must consistently be homoglyphs (over and above the particularities of a single font file)"
   ]
  },
  {
   "cell_type": "code",
   "execution_count": null,
   "id": "462d5bbb",
   "metadata": {},
   "outputs": [],
   "source": [
    "(high_prob\n",
    " .assign(CHAR=high_prob['DEC'].apply(chr))\n",
    " .reindex(columns=['DEC', 'PAIR', 'CHAR', 'COUNT', 'PROB'])\n",
    ").head(50)"
   ]
  },
  {
   "cell_type": "code",
   "execution_count": null,
   "id": "04205dd1",
   "metadata": {},
   "outputs": [],
   "source": []
  }
 ],
 "metadata": {
  "kernelspec": {
   "display_name": "Python 3 (ipykernel)",
   "language": "python",
   "name": "python3"
  },
  "language_info": {
   "codemirror_mode": {
    "name": "ipython",
    "version": 3
   },
   "file_extension": ".py",
   "mimetype": "text/x-python",
   "name": "python",
   "nbconvert_exporter": "python",
   "pygments_lexer": "ipython3",
   "version": "3.7.3"
  }
 },
 "nbformat": 4,
 "nbformat_minor": 5
}
