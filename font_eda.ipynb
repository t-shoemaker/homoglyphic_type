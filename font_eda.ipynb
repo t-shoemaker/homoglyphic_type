{
 "cells": [
  {
   "cell_type": "code",
   "execution_count": 1,
   "id": "f7fcd764",
   "metadata": {},
   "outputs": [],
   "source": [
    "import os\n",
    "from homoglypher.process_data import HomoglyphJSON\n",
    "from homoglypher.glyph import Glyph\n",
    "import pandas as pd\n",
    "import numpy as np\n",
    "import matplotlib.pyplot as plt"
   ]
  },
  {
   "cell_type": "markdown",
   "id": "69e7152a",
   "metadata": {},
   "source": [
    "Load in Unicode categories and the original file list of ttfs"
   ]
  },
  {
   "cell_type": "code",
   "execution_count": 2,
   "id": "a6ffe63a",
   "metadata": {},
   "outputs": [],
   "source": [
    "uni_categories = pd.read_csv(\n",
    "    \"unicode_categories.tsv\",\n",
    "    delimiter='\\t',\n",
    "    header=None,\n",
    "    names=['ABBR', 'LONG', 'DESCRIPTION']\n",
    ")\n",
    "uni_dict = dict(zip(uni_categories['ABBR'], uni_categories['LONG']))\n",
    "\n",
    "with open(\"data_googlefonts_files.txt\", 'r') as f:\n",
    "    original_list = f.read().split(\"\\n\")\n",
    "    original_list = set([f[:-4] for f in original_list])"
   ]
  },
  {
   "cell_type": "markdown",
   "id": "fc4ae868",
   "metadata": {},
   "source": [
    "Build a record for each font file"
   ]
  },
  {
   "cell_type": "code",
   "execution_count": 3,
   "id": "9509a74c",
   "metadata": {},
   "outputs": [],
   "source": [
    "indir = \"data_googlefonts\"\n",
    "fnames = os.listdir(indir)\n",
    "\n",
    "records = []\n",
    "for f in fnames:\n",
    "    r = HomoglyphJSON(f, indir)\n",
    "    records.append(r.record)"
   ]
  },
  {
   "cell_type": "markdown",
   "id": "dde5de86",
   "metadata": {},
   "source": [
    "Compile into a big dataframe"
   ]
  },
  {
   "cell_type": "code",
   "execution_count": 4,
   "id": "be686cef",
   "metadata": {},
   "outputs": [
    {
     "name": "stdout",
     "output_type": "stream",
     "text": [
      "Number of entries: 146,654\n"
     ]
    }
   ],
   "source": [
    "fonts = pd.concat([r for r in records])\n",
    "print(f\"Number of entries: {len(fonts):,}\")"
   ]
  },
  {
   "cell_type": "markdown",
   "id": "12abd383",
   "metadata": {},
   "source": [
    "How many fonts from the original data have homoglyphs?"
   ]
  },
  {
   "cell_type": "code",
   "execution_count": 5,
   "id": "e4d94fad",
   "metadata": {},
   "outputs": [
    {
     "name": "stdout",
     "output_type": "stream",
     "text": [
      "No homoglyphs for 272 files\n"
     ]
    }
   ],
   "source": [
    "not_found = list(original_list - set(fonts.index))\n",
    "print(f\"No homoglyphs for {len(not_found)} files\")"
   ]
  },
  {
   "cell_type": "markdown",
   "id": "674a6e8f",
   "metadata": {},
   "source": [
    "Make character dataframe, where a row is a single character"
   ]
  },
  {
   "cell_type": "code",
   "execution_count": 5,
   "id": "01e05313",
   "metadata": {},
   "outputs": [],
   "source": [
    "chars = (\n",
    "    fonts\n",
    "    .drop_duplicates('DEC')\n",
    "    .drop(columns=['GROUP', 'STYLE'])\n",
    "    .sort_values('DEC')\n",
    "    .reset_index(drop=True)\n",
    ")"
   ]
  },
  {
   "cell_type": "code",
   "execution_count": 6,
   "id": "8ad448ea",
   "metadata": {},
   "outputs": [
    {
     "name": "stdout",
     "output_type": "stream",
     "text": [
      "Number of characters: 6018 \n",
      "Character that appears the most: 0x2d, which is - (1893 times)\n"
     ]
    }
   ],
   "source": [
    "grouped_dec = fonts.groupby('DEC')\n",
    "dec_counts = grouped_dec['HEX'].count()\n",
    "\n",
    "print(\n",
    "    f\"Number of characters: {len(chars)}\",\n",
    "    f\"\\nCharacter that appears the most:\",\n",
    "    f\"{hex(dec_counts.idxmax())}, which is {chr(dec_counts.idxmax())}\",\n",
    "    f\"({dec_counts.max()} times)\"\n",
    ")"
   ]
  },
  {
   "cell_type": "markdown",
   "id": "2b9fe39c",
   "metadata": {},
   "source": [
    "Get the number of homoglyphs per each categorical in the fonts dataframe. This requires some complicated footwork: group by categorical, then `GROUP`; get the number of unique entries per grouped result; group by font file again; take the count.\n",
    "\n",
    "Additionally: define functions to get the probability and conditional probability distributions for observations in the variables"
   ]
  },
  {
   "cell_type": "code",
   "execution_count": 7,
   "id": "b0e0eb34",
   "metadata": {},
   "outputs": [],
   "source": [
    "def homoglyphs_per(var, df):\n",
    "    h_per = (\n",
    "        df\n",
    "        .groupby([var, 'GROUP'])\n",
    "        .nunique()\n",
    "        .groupby(level=0)\n",
    "        .size()\n",
    "    )\n",
    "    return {var: h_per}\n",
    "\n",
    "def prob(cond, df):\n",
    "    return (\n",
    "        df\n",
    "        .groupby(cond)\n",
    "        .size()\n",
    "        .div(len(df))\n",
    "    )\n",
    "\n",
    "def conditional_prob(cond1, cond2, df, fill_zeros=True):\n",
    "    probs = prob(cond1, df)\n",
    "    c_probs = (\n",
    "        df\n",
    "        .groupby([cond1, cond2])\n",
    "        .size()\n",
    "        .div(len(df))\n",
    "        .div(probs, axis=0, level=cond1)\n",
    "    )\n",
    "    if fill_zeros:\n",
    "        c_probs = (\n",
    "            c_probs\n",
    "            .unstack(fill_value=0)\n",
    "            .stack()\n",
    "        )\n",
    "    c_probs = (\n",
    "        c_probs\n",
    "        .reset_index()\n",
    "        .rename(columns={0: 'COND_PROB'})\n",
    "    )\n",
    "    \n",
    "    return c_probs"
   ]
  },
  {
   "cell_type": "code",
   "execution_count": 8,
   "id": "07579c66",
   "metadata": {},
   "outputs": [],
   "source": [
    "var_list = ['FILE', 'FONT', 'STYLE', 'CAT']\n",
    "h_per_var = [homoglyphs_per(var, fonts) for var in var_list]"
   ]
  },
  {
   "cell_type": "code",
   "execution_count": 10,
   "id": "146f4d50",
   "metadata": {},
   "outputs": [
    {
     "name": "stdout",
     "output_type": "stream",
     "text": [
      "Unique categories for FILE: 2915 \n",
      "Median number of homoglyphs in FILE: 5.0 \n",
      "Most number of homoglyphs for FILE: SeoulHangangCondensed-Medium (497) \n",
      "Least number of homoglyphs for FILE: ABeeZee-Italic (1) \n",
      "\n",
      "Unique categories for FONT: 1241 \n",
      "Median number of homoglyphs in FONT: 5.0 \n",
      "Most number of homoglyphs for FONT: SeoulHangangCondensed (497) \n",
      "Least number of homoglyphs for FONT: ABeeZee (1) \n",
      "\n",
      "Unique categories for STYLE: 129 \n",
      "Median number of homoglyphs in STYLE: 11.0 \n",
      "Most number of homoglyphs for STYLE: Medium (497) \n",
      "Least number of homoglyphs for STYLE: Devanagari (1) \n",
      "\n",
      "Unique categories for CAT: 24 \n",
      "Median number of homoglyphs in CAT: 160.0 \n",
      "Most number of homoglyphs for CAT: Lo (469) \n",
      "Least number of homoglyphs for CAT: Lt (5) \n",
      "\n"
     ]
    }
   ],
   "source": [
    "for entry in h_per_var:\n",
    "    for k, v in entry.items():\n",
    "        print(\n",
    "            f\"Unique categories for {k}: {entry[k].count()}\",\n",
    "            f\"\\nMedian number of homoglyphs in {k}: {entry[k].median()}\",\n",
    "            f\"\\nMost number of homoglyphs for {k}: {entry[k].idxmax()} ({entry[k].max()})\",\n",
    "            f\"\\nLeast number of homoglyphs for {k}: {entry[k].idxmin()} ({entry[k].min()})\",\n",
    "            \"\\n\"\n",
    "        )"
   ]
  },
  {
   "cell_type": "markdown",
   "id": "8b9bb470",
   "metadata": {},
   "source": [
    "Plotting some histograms. Here, each graph is the number of variables with a given number of homoglyphs"
   ]
  },
  {
   "cell_type": "code",
   "execution_count": 11,
   "id": "0096a8f8",
   "metadata": {},
   "outputs": [
    {
     "data": {
      "image/png": "[encoded data removed]",
      "text/plain": [
       "<Figure size 1080x1800 with 4 Axes>"
      ]
     },
     "metadata": {
      "needs_background": "light"
     },
     "output_type": "display_data"
    }
   ],
   "source": [
    "num_axes = len(h_per_var)\n",
    "fig, ax = plt.subplots(num_axes, 1, figsize=(15, 25))\n",
    "\n",
    "axes = ax.flatten()\n",
    "for n, a in zip(range(num_axes), axes):\n",
    "    var, to_plot = var_list[n], h_per_var[n]\n",
    "\n",
    "    xrange = (0, to_plot[var].max())\n",
    "    bins = round((len(to_plot[var]) * 0.03))\n",
    "    if bins < 10:\n",
    "        bins = 20\n",
    "    \n",
    "    a.hist(to_plot[var], bins=bins)\n",
    "    a.set_title(var)\n",
    "    a.set_xlim(xrange)"
   ]
  },
  {
   "cell_type": "markdown",
   "id": "e09827aa",
   "metadata": {},
   "source": [
    "A quick glimpse at some probability distributions for the variables.\n",
    "\n",
    "Here's `STYLE`"
   ]
  },
  {
   "cell_type": "code",
   "execution_count": 12,
   "id": "648b773c",
   "metadata": {},
   "outputs": [
    {
     "data": {
      "image/png": "[encoded data removed]",
      "text/plain": [
       "<Figure size 1080x360 with 1 Axes>"
      ]
     },
     "metadata": {
      "needs_background": "light"
     },
     "output_type": "display_data"
    }
   ],
   "source": [
    "style_prob = prob('STYLE', fonts)\n",
    "\n",
    "style_prob.sort_values(ascending=False).plot(figsize=(15,5), xlabel='style', ylabel='% probability');"
   ]
  },
  {
   "cell_type": "markdown",
   "id": "f5e5a621",
   "metadata": {},
   "source": [
    "Here's `CAT`, or the Unicode category"
   ]
  },
  {
   "cell_type": "code",
   "execution_count": 13,
   "id": "9d9e7a9f",
   "metadata": {},
   "outputs": [
    {
     "data": {
      "image/png": "[encoded data removed]",
      "text/plain": [
       "<Figure size 1080x360 with 1 Axes>"
      ]
     },
     "metadata": {
      "needs_background": "light"
     },
     "output_type": "display_data"
    }
   ],
   "source": [
    "cat_prob = prob('CAT', fonts)\n",
    "cat_prob = pd.DataFrame(cat_prob.sort_values(ascending=False), columns=['PROB'])\n",
    "cat_prob = cat_prob.assign(LONG=cat_prob.index.map(uni_dict))\n",
    "\n",
    "cat_prob.plot(figsize=(15,5), xlabel='unicode category', ylabel='% probability', legend=False);"
   ]
  },
  {
   "cell_type": "code",
   "execution_count": 14,
   "id": "37911489",
   "metadata": {},
   "outputs": [
    {
     "data": {
      "text/html": [
       "<div>\n",
       "<style scoped>\n",
       "    .dataframe tbody tr th:only-of-type {\n",
       "        vertical-align: middle;\n",
       "    }\n",
       "\n",
       "    .dataframe tbody tr th {\n",
       "        vertical-align: top;\n",
       "    }\n",
       "\n",
       "    .dataframe thead th {\n",
       "        text-align: right;\n",
       "    }\n",
       "</style>\n",
       "<table border=\"1\" class=\"dataframe\">\n",
       "  <thead>\n",
       "    <tr style=\"text-align: right;\">\n",
       "      <th></th>\n",
       "      <th>PROB</th>\n",
       "      <th>LONG</th>\n",
       "    </tr>\n",
       "    <tr>\n",
       "      <th>CAT</th>\n",
       "      <th></th>\n",
       "      <th></th>\n",
       "    </tr>\n",
       "  </thead>\n",
       "  <tbody>\n",
       "    <tr>\n",
       "      <th>Lu</th>\n",
       "      <td>0.270453</td>\n",
       "      <td>Uppercase_Letter</td>\n",
       "    </tr>\n",
       "    <tr>\n",
       "      <th>Lo</th>\n",
       "      <td>0.228770</td>\n",
       "      <td>Other_Letter</td>\n",
       "    </tr>\n",
       "    <tr>\n",
       "      <th>Ll</th>\n",
       "      <td>0.207488</td>\n",
       "      <td>Lowercase_Letter</td>\n",
       "    </tr>\n",
       "    <tr>\n",
       "      <th>So</th>\n",
       "      <td>0.052375</td>\n",
       "      <td>Other_Symbol</td>\n",
       "    </tr>\n",
       "    <tr>\n",
       "      <th>Pd</th>\n",
       "      <td>0.032648</td>\n",
       "      <td>Dash_Punctuation</td>\n",
       "    </tr>\n",
       "    <tr>\n",
       "      <th>Sm</th>\n",
       "      <td>0.029266</td>\n",
       "      <td>Math_Symbol</td>\n",
       "    </tr>\n",
       "    <tr>\n",
       "      <th>Po</th>\n",
       "      <td>0.029096</td>\n",
       "      <td>Other_Punctuation</td>\n",
       "    </tr>\n",
       "    <tr>\n",
       "      <th>Mn</th>\n",
       "      <td>0.024377</td>\n",
       "      <td>Nonspacing_Mark</td>\n",
       "    </tr>\n",
       "    <tr>\n",
       "      <th>Lm</th>\n",
       "      <td>0.022816</td>\n",
       "      <td>Modifier_Letter</td>\n",
       "    </tr>\n",
       "    <tr>\n",
       "      <th>Sk</th>\n",
       "      <td>0.022434</td>\n",
       "      <td>Modifier_Symbol</td>\n",
       "    </tr>\n",
       "    <tr>\n",
       "      <th>Cf</th>\n",
       "      <td>0.012035</td>\n",
       "      <td>Format</td>\n",
       "    </tr>\n",
       "    <tr>\n",
       "      <th>Nd</th>\n",
       "      <td>0.009280</td>\n",
       "      <td>Decimal_Number</td>\n",
       "    </tr>\n",
       "    <tr>\n",
       "      <th>No</th>\n",
       "      <td>0.007453</td>\n",
       "      <td>Other_Number</td>\n",
       "    </tr>\n",
       "    <tr>\n",
       "      <th>Ps</th>\n",
       "      <td>0.006130</td>\n",
       "      <td>Open_Punctuation</td>\n",
       "    </tr>\n",
       "    <tr>\n",
       "      <th>Pf</th>\n",
       "      <td>0.005237</td>\n",
       "      <td>Final_Punctuation</td>\n",
       "    </tr>\n",
       "    <tr>\n",
       "      <th>Sc</th>\n",
       "      <td>0.003491</td>\n",
       "      <td>Currency_Symbol</td>\n",
       "    </tr>\n",
       "    <tr>\n",
       "      <th>Pi</th>\n",
       "      <td>0.003021</td>\n",
       "      <td>Initial_Punctuation</td>\n",
       "    </tr>\n",
       "    <tr>\n",
       "      <th>Nl</th>\n",
       "      <td>0.003007</td>\n",
       "      <td>Letter_Number</td>\n",
       "    </tr>\n",
       "    <tr>\n",
       "      <th>Pe</th>\n",
       "      <td>0.001602</td>\n",
       "      <td>Close_Punctuation</td>\n",
       "    </tr>\n",
       "    <tr>\n",
       "      <th>Mc</th>\n",
       "      <td>0.001459</td>\n",
       "      <td>Spacing_Mark</td>\n",
       "    </tr>\n",
       "    <tr>\n",
       "      <th>Pc</th>\n",
       "      <td>0.000184</td>\n",
       "      <td>Connector_Punctuation</td>\n",
       "    </tr>\n",
       "    <tr>\n",
       "      <th>Zs</th>\n",
       "      <td>0.000089</td>\n",
       "      <td>Space_Separator</td>\n",
       "    </tr>\n",
       "    <tr>\n",
       "      <th>Me</th>\n",
       "      <td>0.000082</td>\n",
       "      <td>Enclosing_Mark</td>\n",
       "    </tr>\n",
       "    <tr>\n",
       "      <th>Lt</th>\n",
       "      <td>0.000048</td>\n",
       "      <td>Titlecase_Letter</td>\n",
       "    </tr>\n",
       "  </tbody>\n",
       "</table>\n",
       "</div>"
      ],
      "text/plain": [
       "         PROB                   LONG\n",
       "CAT                                 \n",
       "Lu   0.270453       Uppercase_Letter\n",
       "Lo   0.228770           Other_Letter\n",
       "Ll   0.207488       Lowercase_Letter\n",
       "So   0.052375           Other_Symbol\n",
       "Pd   0.032648       Dash_Punctuation\n",
       "Sm   0.029266            Math_Symbol\n",
       "Po   0.029096      Other_Punctuation\n",
       "Mn   0.024377        Nonspacing_Mark\n",
       "Lm   0.022816        Modifier_Letter\n",
       "Sk   0.022434        Modifier_Symbol\n",
       "Cf   0.012035                 Format\n",
       "Nd   0.009280         Decimal_Number\n",
       "No   0.007453           Other_Number\n",
       "Ps   0.006130       Open_Punctuation\n",
       "Pf   0.005237      Final_Punctuation\n",
       "Sc   0.003491        Currency_Symbol\n",
       "Pi   0.003021    Initial_Punctuation\n",
       "Nl   0.003007          Letter_Number\n",
       "Pe   0.001602      Close_Punctuation\n",
       "Mc   0.001459           Spacing_Mark\n",
       "Pc   0.000184  Connector_Punctuation\n",
       "Zs   0.000089        Space_Separator\n",
       "Me   0.000082         Enclosing_Mark\n",
       "Lt   0.000048       Titlecase_Letter"
      ]
     },
     "execution_count": 14,
     "metadata": {},
     "output_type": "execute_result"
    }
   ],
   "source": [
    "cat_prob.round(6)"
   ]
  },
  {
   "cell_type": "markdown",
   "id": "fadd9ac7",
   "metadata": {},
   "source": [
    "Count the number of characters in each homoglyph for font. Put another way: for a given font, how many characters are in each `GROUP`?"
   ]
  },
  {
   "cell_type": "code",
   "execution_count": 15,
   "id": "9049f241",
   "metadata": {},
   "outputs": [],
   "source": [
    "char_per_h = pd.DataFrame(fonts.groupby(['FILE', 'GROUP']).size(), columns=['N_CHAR'])\n",
    "char_per_h = (\n",
    "    char_per_h\n",
    "    .reset_index()\n",
    "    .set_index('FILE')\n",
    ")\n",
    "\n",
    "char_arr = char_per_h['N_CHAR']"
   ]
  },
  {
   "cell_type": "code",
   "execution_count": 16,
   "id": "6116f111",
   "metadata": {},
   "outputs": [
    {
     "name": "stdout",
     "output_type": "stream",
     "text": [
      "Characters per homoglyph: \n",
      "+ Mean: 2.14 \n",
      "+ Standard deviation: 1.86 \n",
      "+ Variance: 3.47 \n",
      "+ Largest homoglyph group: 223 characters (FlowRounded-Regular) \n",
      "+ 0.99 quantile for characters per homoglyph: 4.0 characters \n",
      "+ Number of fonts with a homoglyph that contains 4.0 or more characters: 514\n"
     ]
    }
   ],
   "source": [
    "quant = 0.99\n",
    "high_quant = char_arr.quantile(quant)\n",
    "\n",
    "print(\n",
    "    \"Characters per homoglyph:\",\n",
    "    f\"\\n+ Mean: {char_arr.mean():.02f}\",\n",
    "    f\"\\n+ Standard deviation: {char_arr.std():.02f}\",\n",
    "    f\"\\n+ Variance: {char_arr.var():.02f}\",\n",
    "    f\"\\n+ Largest homoglyph group: {char_arr.max()} characters ({char_arr.idxmax()})\",\n",
    "    f\"\\n+ {quant} quantile for characters per homoglyph: {high_quant} characters\",\n",
    "    f\"\\n+ Number of fonts with a homoglyph that contains {high_quant} or more characters:\",\n",
    "    f\"{char_per_h[char_per_h['N_CHAR'] >= high_quant].index.nunique()}\"\n",
    ")"
   ]
  },
  {
   "cell_type": "markdown",
   "id": "741d9736",
   "metadata": {},
   "source": [
    "Let's look at the distributions a little more"
   ]
  },
  {
   "cell_type": "code",
   "execution_count": 17,
   "id": "ec02505b",
   "metadata": {},
   "outputs": [
    {
     "name": "stdout",
     "output_type": "stream",
     "text": [
      "Second standard deviation + mean for the number of chars in a homoglyph: 5.87 characters \n",
      "Number of fonts with homoglyphs at or above this cutoff: 39\n"
     ]
    },
    {
     "data": {
      "image/png": "[encoded data removed]",
      "text/plain": [
       "<Figure size 1080x360 with 1 Axes>"
      ]
     },
     "metadata": {
      "needs_background": "light"
     },
     "output_type": "display_data"
    }
   ],
   "source": [
    "sigma_2 = char_arr.std() * 2\n",
    "sig2_mean = sigma_2 + char_arr.mean()\n",
    "\n",
    "print(\n",
    "    f\"Second standard deviation + mean for the number of chars in a homoglyph: {sig2_mean:.2f} characters\",\n",
    "    f\"\\nNumber of fonts with homoglyphs at or above this cutoff:\",\n",
    "    f\"{char_per_h[char_per_h['N_CHAR'] >= sig2_mean].index.nunique()}\"\n",
    ")\n",
    "\n",
    "ax = char_arr.hist(figsize=(15,5), bins=150)\n",
    "plt.axvline(x=sig2_mean, color='red', ls=':');"
   ]
  },
  {
   "cell_type": "markdown",
   "id": "8c69fe9d",
   "metadata": {},
   "source": [
    "Subset on files with these large homoglyph groups"
   ]
  },
  {
   "cell_type": "code",
   "execution_count": 18,
   "id": "f7dcfbb9",
   "metadata": {},
   "outputs": [],
   "source": [
    "lg_groups = char_per_h[char_per_h['N_CHAR'] >= sig2_mean]\n",
    "\n",
    "lg_groups_files = lg_groups.groupby('FILE').size()\n",
    "lg_groups_n_char = lg_groups.groupby('FILE')['N_CHAR'].sum()"
   ]
  },
  {
   "cell_type": "code",
   "execution_count": 19,
   "id": "02dc9cb8",
   "metadata": {},
   "outputs": [
    {
     "name": "stdout",
     "output_type": "stream",
     "text": [
      "Mean number of homoglyphs in the large groups subset: 2.10 \n",
      "File with the most homoglyphs in this subset: 8 (RedactedScript-Regular; covers 325 characters)\n"
     ]
    }
   ],
   "source": [
    "print(\n",
    "    f\"Mean number of homoglyphs in the large groups subset: {lg_groups_files.mean():.2f}\",\n",
    "    f\"\\nFile with the most homoglyphs in this subset: {lg_groups_files.max()}\",\n",
    "    f\"({lg_groups_n_char.idxmax()};\",\n",
    "    f\"covers {lg_groups.loc[lg_groups_n_char.idxmax()]['N_CHAR'].sum()} characters)\"\n",
    ")"
   ]
  },
  {
   "cell_type": "markdown",
   "id": "daf721ce",
   "metadata": {},
   "source": [
    "Interestingly, the top five or so files in this list are those that pressure the very idea of a font. More on this sometime..."
   ]
  },
  {
   "cell_type": "code",
   "execution_count": 20,
   "id": "6dc90615",
   "metadata": {},
   "outputs": [
    {
     "data": {
      "text/plain": [
       "FILE\n",
       "RedactedScript-Regular        325\n",
       "RedactedScript-Light          322\n",
       "RedactedScript-Bold           314\n",
       "FlowBlock-Regular             268\n",
       "FlowCircular-Regular          265\n",
       "FlowRounded-Regular           265\n",
       "Cardo-Bold                    101\n",
       "Cardo-Regular                 101\n",
       "Cardo-Italic                   81\n",
       "LakkiReddy-Regular             51\n",
       "RaviPrakash-Regular            51\n",
       "Ponnala-Regular                51\n",
       "Nobile-Italic                  36\n",
       "Tuffy-Italic                   26\n",
       "PT_Sans-Narrow-Web-Regular     25\n",
       "Name: N_CHAR, dtype: int64"
      ]
     },
     "execution_count": 20,
     "metadata": {},
     "output_type": "execute_result"
    }
   ],
   "source": [
    "lg_groups_n_char.sort_values(ascending=False).head(15)"
   ]
  },
  {
   "cell_type": "markdown",
   "id": "b884362f",
   "metadata": {},
   "source": [
    "Case in point"
   ]
  },
  {
   "cell_type": "code",
   "execution_count": 21,
   "id": "73dbc656",
   "metadata": {
    "scrolled": true
   },
   "outputs": [
    {
     "name": "stdout",
     "output_type": "stream",
     "text": [
      "0\n"
     ]
    },
    {
     "data": {
      "image/png": "[encoded data removed]",
      "text/plain": [
       "<PIL.Image.Image image mode=L size=35x14 at 0x129055940>"
      ]
     },
     "metadata": {},
     "output_type": "display_data"
    },
    {
     "name": "stdout",
     "output_type": "stream",
     "text": [
      "1\n"
     ]
    },
    {
     "data": {
      "image/png": "[encoded data removed]",
      "text/plain": [
       "<PIL.Image.Image image mode=L size=35x14 at 0x1290558D0>"
      ]
     },
     "metadata": {},
     "output_type": "display_data"
    },
    {
     "name": "stdout",
     "output_type": "stream",
     "text": [
      "2\n"
     ]
    },
    {
     "data": {
      "image/png": "[encoded data removed]",
      "text/plain": [
       "<PIL.Image.Image image mode=L size=35x14 at 0x129045AC8>"
      ]
     },
     "metadata": {},
     "output_type": "display_data"
    },
    {
     "name": "stdout",
     "output_type": "stream",
     "text": [
      "3\n"
     ]
    },
    {
     "data": {
      "image/png": "[encoded data removed]",
      "text/plain": [
       "<PIL.Image.Image image mode=L size=35x14 at 0x1290558D0>"
      ]
     },
     "metadata": {},
     "output_type": "display_data"
    },
    {
     "name": "stdout",
     "output_type": "stream",
     "text": [
      "4\n"
     ]
    },
    {
     "data": {
      "image/png": "[encoded data removed]",
      "text/plain": [
       "<PIL.Image.Image image mode=L size=35x14 at 0x129045AC8>"
      ]
     },
     "metadata": {},
     "output_type": "display_data"
    },
    {
     "name": "stdout",
     "output_type": "stream",
     "text": [
      "=\n"
     ]
    },
    {
     "data": {
      "image/png": "[encoded data removed]",
      "text/plain": [
       "<PIL.Image.Image image mode=L size=35x14 at 0x1290558D0>"
      ]
     },
     "metadata": {},
     "output_type": "display_data"
    },
    {
     "name": "stdout",
     "output_type": "stream",
     "text": [
      "@\n"
     ]
    },
    {
     "data": {
      "image/png": "[encoded data removed]",
      "text/plain": [
       "<PIL.Image.Image image mode=L size=35x14 at 0x129899A58>"
      ]
     },
     "metadata": {},
     "output_type": "display_data"
    },
    {
     "name": "stdout",
     "output_type": "stream",
     "text": [
      "P\n"
     ]
    },
    {
     "data": {
      "image/png": "[encoded data removed]",
      "text/plain": [
       "<PIL.Image.Image image mode=L size=35x14 at 0x1290558D0>"
      ]
     },
     "metadata": {},
     "output_type": "display_data"
    },
    {
     "name": "stdout",
     "output_type": "stream",
     "text": [
      "Q\n"
     ]
    },
    {
     "data": {
      "image/png": "[encoded data removed]",
      "text/plain": [
       "<PIL.Image.Image image mode=L size=35x14 at 0x129045AC8>"
      ]
     },
     "metadata": {},
     "output_type": "display_data"
    },
    {
     "name": "stdout",
     "output_type": "stream",
     "text": [
      "R\n"
     ]
    },
    {
     "data": {
      "image/png": "[encoded data removed]",
      "text/plain": [
       "<PIL.Image.Image image mode=L size=35x14 at 0x1290558D0>"
      ]
     },
     "metadata": {},
     "output_type": "display_data"
    },
    {
     "name": "stdout",
     "output_type": "stream",
     "text": [
      "S\n"
     ]
    },
    {
     "data": {
      "image/png": "[encoded data removed]",
      "text/plain": [
       "<PIL.Image.Image image mode=L size=35x14 at 0x129899A58>"
      ]
     },
     "metadata": {},
     "output_type": "display_data"
    },
    {
     "name": "stdout",
     "output_type": "stream",
     "text": [
      "T\n"
     ]
    },
    {
     "data": {
      "image/png": "[encoded data removed]",
      "text/plain": [
       "<PIL.Image.Image image mode=L size=35x14 at 0x1290558D0>"
      ]
     },
     "metadata": {},
     "output_type": "display_data"
    },
    {
     "name": "stdout",
     "output_type": "stream",
     "text": [
      "]\n"
     ]
    },
    {
     "data": {
      "image/png": "[encoded data removed]",
      "text/plain": [
       "<PIL.Image.Image image mode=L size=35x14 at 0x129045AC8>"
      ]
     },
     "metadata": {},
     "output_type": "display_data"
    },
    {
     "name": "stdout",
     "output_type": "stream",
     "text": [
      "`\n"
     ]
    },
    {
     "data": {
      "image/png": "[encoded data removed]",
      "text/plain": [
       "<PIL.Image.Image image mode=L size=35x14 at 0x1290558D0>"
      ]
     },
     "metadata": {},
     "output_type": "display_data"
    },
    {
     "name": "stdout",
     "output_type": "stream",
     "text": [
      "p\n"
     ]
    },
    {
     "data": {
      "image/png": "[encoded data removed]",
      "text/plain": [
       "<PIL.Image.Image image mode=L size=35x14 at 0x129899A58>"
      ]
     },
     "metadata": {},
     "output_type": "display_data"
    },
    {
     "name": "stdout",
     "output_type": "stream",
     "text": [
      "q\n"
     ]
    },
    {
     "data": {
      "image/png": "[encoded data removed]",
      "text/plain": [
       "<PIL.Image.Image image mode=L size=35x14 at 0x1290558D0>"
      ]
     },
     "metadata": {},
     "output_type": "display_data"
    },
    {
     "name": "stdout",
     "output_type": "stream",
     "text": [
      "r\n"
     ]
    },
    {
     "data": {
      "image/png": "[encoded data removed]",
      "text/plain": [
       "<PIL.Image.Image image mode=L size=35x14 at 0x129045AC8>"
      ]
     },
     "metadata": {},
     "output_type": "display_data"
    },
    {
     "name": "stdout",
     "output_type": "stream",
     "text": [
      "s\n"
     ]
    },
    {
     "data": {
      "image/png": "[encoded data removed]",
      "text/plain": [
       "<PIL.Image.Image image mode=L size=35x14 at 0x1290558D0>"
      ]
     },
     "metadata": {},
     "output_type": "display_data"
    },
    {
     "name": "stdout",
     "output_type": "stream",
     "text": [
      "t\n"
     ]
    },
    {
     "data": {
      "image/png": "[encoded data removed]",
      "text/plain": [
       "<PIL.Image.Image image mode=L size=35x14 at 0x129899A58>"
      ]
     },
     "metadata": {},
     "output_type": "display_data"
    },
    {
     "name": "stdout",
     "output_type": "stream",
     "text": [
      "}\n"
     ]
    },
    {
     "data": {
      "image/png": "[encoded data removed]",
      "text/plain": [
       "<PIL.Image.Image image mode=L size=35x14 at 0x1290558D0>"
      ]
     },
     "metadata": {},
     "output_type": "display_data"
    },
    {
     "name": "stdout",
     "output_type": "stream",
     "text": [
      "¡\n"
     ]
    },
    {
     "data": {
      "image/png": "[encoded data removed]",
      "text/plain": [
       "<PIL.Image.Image image mode=L size=35x14 at 0x129045AC8>"
      ]
     },
     "metadata": {},
     "output_type": "display_data"
    },
    {
     "name": "stdout",
     "output_type": "stream",
     "text": [
      "±\n"
     ]
    },
    {
     "data": {
      "image/png": "[encoded data removed]",
      "text/plain": [
       "<PIL.Image.Image image mode=L size=35x14 at 0x1290558D0>"
      ]
     },
     "metadata": {},
     "output_type": "display_data"
    },
    {
     "name": "stdout",
     "output_type": "stream",
     "text": [
      "²\n"
     ]
    },
    {
     "data": {
      "image/png": "[encoded data removed]",
      "text/plain": [
       "<PIL.Image.Image image mode=L size=35x14 at 0x129899A58>"
      ]
     },
     "metadata": {},
     "output_type": "display_data"
    },
    {
     "name": "stdout",
     "output_type": "stream",
     "text": [
      "³\n"
     ]
    },
    {
     "data": {
      "image/png": "[encoded data removed]",
      "text/plain": [
       "<PIL.Image.Image image mode=L size=35x14 at 0x1290558D0>"
      ]
     },
     "metadata": {},
     "output_type": "display_data"
    },
    {
     "name": "stdout",
     "output_type": "stream",
     "text": [
      "´\n"
     ]
    },
    {
     "data": {
      "image/png": "[encoded data removed]",
      "text/plain": [
       "<PIL.Image.Image image mode=L size=35x14 at 0x129045AC8>"
      ]
     },
     "metadata": {},
     "output_type": "display_data"
    },
    {
     "name": "stdout",
     "output_type": "stream",
     "text": [
      "µ\n"
     ]
    },
    {
     "data": {
      "image/png": "[encoded data removed]",
      "text/plain": [
       "<PIL.Image.Image image mode=L size=35x14 at 0x1290558D0>"
      ]
     },
     "metadata": {},
     "output_type": "display_data"
    },
    {
     "name": "stdout",
     "output_type": "stream",
     "text": [
      "¾\n"
     ]
    },
    {
     "data": {
      "image/png": "[encoded data removed]",
      "text/plain": [
       "<PIL.Image.Image image mode=L size=35x14 at 0x129899A58>"
      ]
     },
     "metadata": {},
     "output_type": "display_data"
    },
    {
     "name": "stdout",
     "output_type": "stream",
     "text": [
      "Á\n"
     ]
    },
    {
     "data": {
      "image/png": "[encoded data removed]",
      "text/plain": [
       "<PIL.Image.Image image mode=L size=35x14 at 0x1290559E8>"
      ]
     },
     "metadata": {},
     "output_type": "display_data"
    },
    {
     "name": "stdout",
     "output_type": "stream",
     "text": [
      "Ñ\n"
     ]
    },
    {
     "data": {
      "image/png": "[encoded data removed]",
      "text/plain": [
       "<PIL.Image.Image image mode=L size=35x14 at 0x129045AC8>"
      ]
     },
     "metadata": {},
     "output_type": "display_data"
    },
    {
     "name": "stdout",
     "output_type": "stream",
     "text": [
      "Ò\n"
     ]
    },
    {
     "data": {
      "image/png": "[encoded data removed]",
      "text/plain": [
       "<PIL.Image.Image image mode=L size=35x14 at 0x1290559E8>"
      ]
     },
     "metadata": {},
     "output_type": "display_data"
    },
    {
     "name": "stdout",
     "output_type": "stream",
     "text": [
      "Ó\n"
     ]
    },
    {
     "data": {
      "image/png": "[encoded data removed]",
      "text/plain": [
       "<PIL.Image.Image image mode=L size=35x14 at 0x129899A58>"
      ]
     },
     "metadata": {},
     "output_type": "display_data"
    },
    {
     "name": "stdout",
     "output_type": "stream",
     "text": [
      "Ô\n"
     ]
    },
    {
     "data": {
      "image/png": "[encoded data removed]",
      "text/plain": [
       "<PIL.Image.Image image mode=L size=35x14 at 0x129045AC8>"
      ]
     },
     "metadata": {},
     "output_type": "display_data"
    },
    {
     "name": "stdout",
     "output_type": "stream",
     "text": [
      "Õ\n"
     ]
    },
    {
     "data": {
      "image/png": "[encoded data removed]",
      "text/plain": [
       "<PIL.Image.Image image mode=L size=35x14 at 0x1298AD630>"
      ]
     },
     "metadata": {},
     "output_type": "display_data"
    },
    {
     "name": "stdout",
     "output_type": "stream",
     "text": [
      "Þ\n"
     ]
    },
    {
     "data": {
      "image/png": "[encoded data removed]",
      "text/plain": [
       "<PIL.Image.Image image mode=L size=35x14 at 0x129651898>"
      ]
     },
     "metadata": {},
     "output_type": "display_data"
    },
    {
     "name": "stdout",
     "output_type": "stream",
     "text": [
      "á\n"
     ]
    },
    {
     "data": {
      "image/png": "[encoded data removed]",
      "text/plain": [
       "<PIL.Image.Image image mode=L size=35x14 at 0x129899A58>"
      ]
     },
     "metadata": {},
     "output_type": "display_data"
    },
    {
     "name": "stdout",
     "output_type": "stream",
     "text": [
      "ñ\n"
     ]
    },
    {
     "data": {
      "image/png": "[encoded data removed]",
      "text/plain": [
       "<PIL.Image.Image image mode=L size=35x14 at 0x1298AD9E8>"
      ]
     },
     "metadata": {},
     "output_type": "display_data"
    },
    {
     "name": "stdout",
     "output_type": "stream",
     "text": [
      "ò\n"
     ]
    },
    {
     "data": {
      "image/png": "[encoded data removed]",
      "text/plain": [
       "<PIL.Image.Image image mode=L size=35x14 at 0x1298AD630>"
      ]
     },
     "metadata": {},
     "output_type": "display_data"
    },
    {
     "name": "stdout",
     "output_type": "stream",
     "text": [
      "ó\n"
     ]
    },
    {
     "data": {
      "image/png": "[encoded data removed]",
      "text/plain": [
       "<PIL.Image.Image image mode=L size=35x14 at 0x129651898>"
      ]
     },
     "metadata": {},
     "output_type": "display_data"
    },
    {
     "name": "stdout",
     "output_type": "stream",
     "text": [
      "ô\n"
     ]
    },
    {
     "data": {
      "image/png": "[encoded data removed]",
      "text/plain": [
       "<PIL.Image.Image image mode=L size=35x14 at 0x129899A58>"
      ]
     },
     "metadata": {},
     "output_type": "display_data"
    },
    {
     "name": "stdout",
     "output_type": "stream",
     "text": [
      "õ\n"
     ]
    },
    {
     "data": {
      "image/png": "[encoded data removed]",
      "text/plain": [
       "<PIL.Image.Image image mode=L size=35x14 at 0x1298AD9E8>"
      ]
     },
     "metadata": {},
     "output_type": "display_data"
    },
    {
     "name": "stdout",
     "output_type": "stream",
     "text": [
      "þ\n"
     ]
    },
    {
     "data": {
      "image/png": "[encoded data removed]",
      "text/plain": [
       "<PIL.Image.Image image mode=L size=35x14 at 0x1298AD630>"
      ]
     },
     "metadata": {},
     "output_type": "display_data"
    },
    {
     "name": "stdout",
     "output_type": "stream",
     "text": [
      "ā\n"
     ]
    },
    {
     "data": {
      "image/png": "[encoded data removed]",
      "text/plain": [
       "<PIL.Image.Image image mode=L size=35x14 at 0x129651898>"
      ]
     },
     "metadata": {},
     "output_type": "display_data"
    },
    {
     "name": "stdout",
     "output_type": "stream",
     "text": [
      "ė\n"
     ]
    },
    {
     "data": {
      "image/png": "[encoded data removed]",
      "text/plain": [
       "<PIL.Image.Image image mode=L size=35x14 at 0x129899A58>"
      ]
     },
     "metadata": {},
     "output_type": "display_data"
    },
    {
     "name": "stdout",
     "output_type": "stream",
     "text": [
      "Ę\n"
     ]
    },
    {
     "data": {
      "image/png": "[encoded data removed]",
      "text/plain": [
       "<PIL.Image.Image image mode=L size=35x14 at 0x1298AD9E8>"
      ]
     },
     "metadata": {},
     "output_type": "display_data"
    },
    {
     "name": "stdout",
     "output_type": "stream",
     "text": [
      "ę\n"
     ]
    },
    {
     "data": {
      "image/png": "[encoded data removed]",
      "text/plain": [
       "<PIL.Image.Image image mode=L size=35x14 at 0x1298AD630>"
      ]
     },
     "metadata": {},
     "output_type": "display_data"
    },
    {
     "name": "stdout",
     "output_type": "stream",
     "text": [
      "Ě\n"
     ]
    },
    {
     "data": {
      "image/png": "[encoded data removed]",
      "text/plain": [
       "<PIL.Image.Image image mode=L size=35x14 at 0x129651898>"
      ]
     },
     "metadata": {},
     "output_type": "display_data"
    },
    {
     "name": "stdout",
     "output_type": "stream",
     "text": [
      "ě\n"
     ]
    },
    {
     "data": {
      "image/png": "[encoded data removed]",
      "text/plain": [
       "<PIL.Image.Image image mode=L size=35x14 at 0x129899A58>"
      ]
     },
     "metadata": {},
     "output_type": "display_data"
    },
    {
     "name": "stdout",
     "output_type": "stream",
     "text": [
      "İ\n"
     ]
    },
    {
     "data": {
      "image/png": "[encoded data removed]",
      "text/plain": [
       "<PIL.Image.Image image mode=L size=35x14 at 0x1298AD9E8>"
      ]
     },
     "metadata": {},
     "output_type": "display_data"
    },
    {
     "name": "stdout",
     "output_type": "stream",
     "text": [
      "ķ\n"
     ]
    },
    {
     "data": {
      "image/png": "[encoded data removed]",
      "text/plain": [
       "<PIL.Image.Image image mode=L size=35x14 at 0x1298AD630>"
      ]
     },
     "metadata": {},
     "output_type": "display_data"
    },
    {
     "name": "stdout",
     "output_type": "stream",
     "text": [
      "ō\n"
     ]
    },
    {
     "data": {
      "image/png": "[encoded data removed]",
      "text/plain": [
       "<PIL.Image.Image image mode=L size=35x14 at 0x129651898>"
      ]
     },
     "metadata": {},
     "output_type": "display_data"
    },
    {
     "name": "stdout",
     "output_type": "stream",
     "text": [
      "Ő\n"
     ]
    },
    {
     "data": {
      "image/png": "[encoded data removed]",
      "text/plain": [
       "<PIL.Image.Image image mode=L size=35x14 at 0x129899A58>"
      ]
     },
     "metadata": {},
     "output_type": "display_data"
    },
    {
     "name": "stdout",
     "output_type": "stream",
     "text": [
      "ő\n"
     ]
    },
    {
     "data": {
      "image/png": "[encoded data removed]",
      "text/plain": [
       "<PIL.Image.Image image mode=L size=35x14 at 0x1298AD9E8>"
      ]
     },
     "metadata": {},
     "output_type": "display_data"
    },
    {
     "name": "stdout",
     "output_type": "stream",
     "text": [
      "Œ\n"
     ]
    },
    {
     "data": {
      "image/png": "[encoded data removed]",
      "text/plain": [
       "<PIL.Image.Image image mode=L size=35x14 at 0x1298AD630>"
      ]
     },
     "metadata": {},
     "output_type": "display_data"
    },
    {
     "name": "stdout",
     "output_type": "stream",
     "text": [
      "œ\n"
     ]
    },
    {
     "data": {
      "image/png": "[encoded data removed]",
      "text/plain": [
       "<PIL.Image.Image image mode=L size=35x14 at 0x129651898>"
      ]
     },
     "metadata": {},
     "output_type": "display_data"
    },
    {
     "name": "stdout",
     "output_type": "stream",
     "text": [
      "Ş\n"
     ]
    },
    {
     "data": {
      "image/png": "[encoded data removed]",
      "text/plain": [
       "<PIL.Image.Image image mode=L size=35x14 at 0x129899A58>"
      ]
     },
     "metadata": {},
     "output_type": "display_data"
    },
    {
     "name": "stdout",
     "output_type": "stream",
     "text": [
      "š\n"
     ]
    },
    {
     "data": {
      "image/png": "[encoded data removed]",
      "text/plain": [
       "<PIL.Image.Image image mode=L size=35x14 at 0x1298AD9E8>"
      ]
     },
     "metadata": {},
     "output_type": "display_data"
    },
    {
     "name": "stdout",
     "output_type": "stream",
     "text": [
      "Ż\n"
     ]
    },
    {
     "data": {
      "image/png": "[encoded data removed]",
      "text/plain": [
       "<PIL.Image.Image image mode=L size=35x14 at 0x1298AD630>"
      ]
     },
     "metadata": {},
     "output_type": "display_data"
    },
    {
     "name": "stdout",
     "output_type": "stream",
     "text": [
      "ż\n"
     ]
    },
    {
     "data": {
      "image/png": "[encoded data removed]",
      "text/plain": [
       "<PIL.Image.Image image mode=L size=35x14 at 0x129651898>"
      ]
     },
     "metadata": {},
     "output_type": "display_data"
    },
    {
     "name": "stdout",
     "output_type": "stream",
     "text": [
      "Ž\n"
     ]
    },
    {
     "data": {
      "image/png": "[encoded data removed]",
      "text/plain": [
       "<PIL.Image.Image image mode=L size=35x14 at 0x129899A58>"
      ]
     },
     "metadata": {},
     "output_type": "display_data"
    },
    {
     "name": "stdout",
     "output_type": "stream",
     "text": [
      "ž\n"
     ]
    },
    {
     "data": {
      "image/png": "[encoded data removed]",
      "text/plain": [
       "<PIL.Image.Image image mode=L size=35x14 at 0x1298AD9E8>"
      ]
     },
     "metadata": {},
     "output_type": "display_data"
    },
    {
     "name": "stdout",
     "output_type": "stream",
     "text": [
      "ƒ\n"
     ]
    },
    {
     "data": {
      "image/png": "[encoded data removed]",
      "text/plain": [
       "<PIL.Image.Image image mode=L size=35x14 at 0x1298AD630>"
      ]
     },
     "metadata": {},
     "output_type": "display_data"
    },
    {
     "name": "stdout",
     "output_type": "stream",
     "text": [
      "˙\n"
     ]
    },
    {
     "data": {
      "image/png": "[encoded data removed]",
      "text/plain": [
       "<PIL.Image.Image image mode=L size=35x14 at 0x129651898>"
      ]
     },
     "metadata": {},
     "output_type": "display_data"
    },
    {
     "name": "stdout",
     "output_type": "stream",
     "text": [
      "˜\n"
     ]
    },
    {
     "data": {
      "image/png": "[encoded data removed]",
      "text/plain": [
       "<PIL.Image.Image image mode=L size=35x14 at 0x129899A58>"
      ]
     },
     "metadata": {},
     "output_type": "display_data"
    },
    {
     "name": "stdout",
     "output_type": "stream",
     "text": [
      "‹\n"
     ]
    },
    {
     "data": {
      "image/png": "[encoded data removed]",
      "text/plain": [
       "<PIL.Image.Image image mode=L size=35x14 at 0x1298AD9E8>"
      ]
     },
     "metadata": {},
     "output_type": "display_data"
    },
    {
     "name": "stdout",
     "output_type": "stream",
     "text": [
      "›\n"
     ]
    },
    {
     "data": {
      "image/png": "[encoded data removed]",
      "text/plain": [
       "<PIL.Image.Image image mode=L size=35x14 at 0x1298AD630>"
      ]
     },
     "metadata": {},
     "output_type": "display_data"
    },
    {
     "name": "stdout",
     "output_type": "stream",
     "text": [
      "⁄\n"
     ]
    },
    {
     "data": {
      "image/png": "[encoded data removed]",
      "text/plain": [
       "<PIL.Image.Image image mode=L size=35x14 at 0x129651898>"
      ]
     },
     "metadata": {},
     "output_type": "display_data"
    },
    {
     "name": "stdout",
     "output_type": "stream",
     "text": [
      "⁴\n"
     ]
    },
    {
     "data": {
      "image/png": "[encoded data removed]",
      "text/plain": [
       "<PIL.Image.Image image mode=L size=35x14 at 0x129899A58>"
      ]
     },
     "metadata": {},
     "output_type": "display_data"
    },
    {
     "name": "stdout",
     "output_type": "stream",
     "text": [
      "€\n"
     ]
    },
    {
     "data": {
      "image/png": "[encoded data removed]",
      "text/plain": [
       "<PIL.Image.Image image mode=L size=35x14 at 0x1298AD9E8>"
      ]
     },
     "metadata": {},
     "output_type": "display_data"
    },
    {
     "name": "stdout",
     "output_type": "stream",
     "text": [
      "ℓ\n"
     ]
    },
    {
     "data": {
      "image/png": "[encoded data removed]",
      "text/plain": [
       "<PIL.Image.Image image mode=L size=35x14 at 0x1298AD630>"
      ]
     },
     "metadata": {},
     "output_type": "display_data"
    },
    {
     "name": "stdout",
     "output_type": "stream",
     "text": [
      "∕\n"
     ]
    },
    {
     "data": {
      "image/png": "[encoded data removed]",
      "text/plain": [
       "<PIL.Image.Image image mode=L size=35x14 at 0x129651898>"
      ]
     },
     "metadata": {},
     "output_type": "display_data"
    },
    {
     "name": "stdout",
     "output_type": "stream",
     "text": [
      "∞\n"
     ]
    },
    {
     "data": {
      "image/png": "[encoded data removed]",
      "text/plain": [
       "<PIL.Image.Image image mode=L size=35x14 at 0x129899A58>"
      ]
     },
     "metadata": {},
     "output_type": "display_data"
    }
   ],
   "source": [
    "redacted_ttf = \"fonts/RedactedScript-Regular.ttf\"\n",
    "\n",
    "redacted_reg = fonts.loc['RedactedScript-Regular']\n",
    "for dec in redacted_reg.loc[redacted_reg['GROUP'] == 0, 'DEC']:\n",
    "    g = Glyph(chr(dec))\n",
    "    print(g.char)\n",
    "    display(g.draw(redacted_ttf, 50))"
   ]
  },
  {
   "cell_type": "markdown",
   "id": "948a6711",
   "metadata": {},
   "source": [
    "Consider something like Paul Chan's Alternumerics series (which isn't actually in the `fonts` dataset---just illustrating)"
   ]
  },
  {
   "cell_type": "code",
   "execution_count": 22,
   "id": "98f54b13",
   "metadata": {
    "scrolled": true
   },
   "outputs": [
    {
     "name": "stdout",
     "output_type": "stream",
     "text": [
      "A\n"
     ]
    },
    {
     "data": {
      "image/png": "[encoded data removed]",
      "text/plain": [
       "<PIL.Image.Image image mode=L size=109x36 at 0x129055390>"
      ]
     },
     "metadata": {},
     "output_type": "display_data"
    },
    {
     "name": "stdout",
     "output_type": "stream",
     "text": [
      "B\n"
     ]
    },
    {
     "data": {
      "image/png": "[encoded data removed]",
      "text/plain": [
       "<PIL.Image.Image image mode=L size=109x36 at 0x129055358>"
      ]
     },
     "metadata": {},
     "output_type": "display_data"
    },
    {
     "name": "stdout",
     "output_type": "stream",
     "text": [
      "C\n"
     ]
    },
    {
     "data": {
      "image/png": "[encoded data removed]",
      "text/plain": [
       "<PIL.Image.Image image mode=L size=109x36 at 0x1298AD630>"
      ]
     },
     "metadata": {},
     "output_type": "display_data"
    },
    {
     "name": "stdout",
     "output_type": "stream",
     "text": [
      "D\n"
     ]
    },
    {
     "data": {
      "image/png": "[encoded data removed]",
      "text/plain": [
       "<PIL.Image.Image image mode=L size=109x36 at 0x129055278>"
      ]
     },
     "metadata": {},
     "output_type": "display_data"
    },
    {
     "name": "stdout",
     "output_type": "stream",
     "text": [
      "E\n"
     ]
    },
    {
     "data": {
      "image/png": "[encoded data removed]",
      "text/plain": [
       "<PIL.Image.Image image mode=L size=109x36 at 0x129651898>"
      ]
     },
     "metadata": {},
     "output_type": "display_data"
    },
    {
     "name": "stdout",
     "output_type": "stream",
     "text": [
      "F\n"
     ]
    },
    {
     "data": {
      "image/png": "[encoded data removed]",
      "text/plain": [
       "<PIL.Image.Image image mode=L size=109x36 at 0x129055358>"
      ]
     },
     "metadata": {},
     "output_type": "display_data"
    },
    {
     "name": "stdout",
     "output_type": "stream",
     "text": [
      "G\n"
     ]
    },
    {
     "data": {
      "image/png": "[encoded data removed]",
      "text/plain": [
       "<PIL.Image.Image image mode=L size=109x36 at 0x1298AD630>"
      ]
     },
     "metadata": {},
     "output_type": "display_data"
    },
    {
     "name": "stdout",
     "output_type": "stream",
     "text": [
      "H\n"
     ]
    },
    {
     "data": {
      "image/png": "[encoded data removed]",
      "text/plain": [
       "<PIL.Image.Image image mode=L size=109x36 at 0x129055278>"
      ]
     },
     "metadata": {},
     "output_type": "display_data"
    },
    {
     "name": "stdout",
     "output_type": "stream",
     "text": [
      "I\n"
     ]
    },
    {
     "data": {
      "image/png": "[encoded data removed]",
      "text/plain": [
       "<PIL.Image.Image image mode=L size=109x36 at 0x129651898>"
      ]
     },
     "metadata": {},
     "output_type": "display_data"
    },
    {
     "name": "stdout",
     "output_type": "stream",
     "text": [
      "J\n"
     ]
    },
    {
     "data": {
      "image/png": "[encoded data removed]",
      "text/plain": [
       "<PIL.Image.Image image mode=L size=109x36 at 0x129055358>"
      ]
     },
     "metadata": {},
     "output_type": "display_data"
    },
    {
     "name": "stdout",
     "output_type": "stream",
     "text": [
      "K\n"
     ]
    },
    {
     "data": {
      "image/png": "[encoded data removed]",
      "text/plain": [
       "<PIL.Image.Image image mode=L size=109x36 at 0x1298AD630>"
      ]
     },
     "metadata": {},
     "output_type": "display_data"
    },
    {
     "name": "stdout",
     "output_type": "stream",
     "text": [
      "L\n"
     ]
    },
    {
     "data": {
      "image/png": "[encoded data removed]",
      "text/plain": [
       "<PIL.Image.Image image mode=L size=109x36 at 0x129055278>"
      ]
     },
     "metadata": {},
     "output_type": "display_data"
    },
    {
     "name": "stdout",
     "output_type": "stream",
     "text": [
      "M\n"
     ]
    },
    {
     "data": {
      "image/png": "[encoded data removed]",
      "text/plain": [
       "<PIL.Image.Image image mode=L size=109x36 at 0x129651898>"
      ]
     },
     "metadata": {},
     "output_type": "display_data"
    },
    {
     "name": "stdout",
     "output_type": "stream",
     "text": [
      "N\n"
     ]
    },
    {
     "data": {
      "image/png": "[encoded data removed]",
      "text/plain": [
       "<PIL.Image.Image image mode=L size=109x36 at 0x129055358>"
      ]
     },
     "metadata": {},
     "output_type": "display_data"
    },
    {
     "name": "stdout",
     "output_type": "stream",
     "text": [
      "O\n"
     ]
    },
    {
     "data": {
      "image/png": "[encoded data removed]",
      "text/plain": [
       "<PIL.Image.Image image mode=L size=109x36 at 0x1298AD630>"
      ]
     },
     "metadata": {},
     "output_type": "display_data"
    },
    {
     "name": "stdout",
     "output_type": "stream",
     "text": [
      "P\n"
     ]
    },
    {
     "data": {
      "image/png": "[encoded data removed]",
      "text/plain": [
       "<PIL.Image.Image image mode=L size=109x36 at 0x129055278>"
      ]
     },
     "metadata": {},
     "output_type": "display_data"
    },
    {
     "name": "stdout",
     "output_type": "stream",
     "text": [
      "Q\n"
     ]
    },
    {
     "data": {
      "image/png": "[encoded data removed]",
      "text/plain": [
       "<PIL.Image.Image image mode=L size=109x36 at 0x129651898>"
      ]
     },
     "metadata": {},
     "output_type": "display_data"
    },
    {
     "name": "stdout",
     "output_type": "stream",
     "text": [
      "R\n"
     ]
    },
    {
     "data": {
      "image/png": "[encoded data removed]",
      "text/plain": [
       "<PIL.Image.Image image mode=L size=109x36 at 0x129055358>"
      ]
     },
     "metadata": {},
     "output_type": "display_data"
    },
    {
     "name": "stdout",
     "output_type": "stream",
     "text": [
      "S\n"
     ]
    },
    {
     "data": {
      "image/png": "[encoded data removed]",
      "text/plain": [
       "<PIL.Image.Image image mode=L size=109x36 at 0x1298AD630>"
      ]
     },
     "metadata": {},
     "output_type": "display_data"
    },
    {
     "name": "stdout",
     "output_type": "stream",
     "text": [
      "T\n"
     ]
    },
    {
     "data": {
      "image/png": "[encoded data removed]",
      "text/plain": [
       "<PIL.Image.Image image mode=L size=109x36 at 0x129055278>"
      ]
     },
     "metadata": {},
     "output_type": "display_data"
    },
    {
     "name": "stdout",
     "output_type": "stream",
     "text": [
      "U\n"
     ]
    },
    {
     "data": {
      "image/png": "[encoded data removed]",
      "text/plain": [
       "<PIL.Image.Image image mode=L size=109x36 at 0x129651898>"
      ]
     },
     "metadata": {},
     "output_type": "display_data"
    },
    {
     "name": "stdout",
     "output_type": "stream",
     "text": [
      "V\n"
     ]
    },
    {
     "data": {
      "image/png": "[encoded data removed]",
      "text/plain": [
       "<PIL.Image.Image image mode=L size=109x36 at 0x129055358>"
      ]
     },
     "metadata": {},
     "output_type": "display_data"
    },
    {
     "name": "stdout",
     "output_type": "stream",
     "text": [
      "W\n"
     ]
    },
    {
     "data": {
      "image/png": "[encoded data removed]",
      "text/plain": [
       "<PIL.Image.Image image mode=L size=109x36 at 0x1298AD630>"
      ]
     },
     "metadata": {},
     "output_type": "display_data"
    },
    {
     "name": "stdout",
     "output_type": "stream",
     "text": [
      "X\n"
     ]
    },
    {
     "data": {
      "image/png": "[encoded data removed]",
      "text/plain": [
       "<PIL.Image.Image image mode=L size=109x36 at 0x129055278>"
      ]
     },
     "metadata": {},
     "output_type": "display_data"
    },
    {
     "name": "stdout",
     "output_type": "stream",
     "text": [
      "Y\n"
     ]
    },
    {
     "data": {
      "image/png": "[encoded data removed]",
      "text/plain": [
       "<PIL.Image.Image image mode=L size=109x36 at 0x129651898>"
      ]
     },
     "metadata": {},
     "output_type": "display_data"
    }
   ],
   "source": [
    "chan_ttf = \"fonts/Font Politics to come.ttf\"\n",
    "for dec in range(65, 90):\n",
    "    g = Glyph(chr(dec))\n",
    "    print(g.char)\n",
    "    display(g.draw(chan_ttf, 50))"
   ]
  },
  {
   "cell_type": "code",
   "execution_count": null,
   "id": "3c0cc4fc",
   "metadata": {},
   "outputs": [],
   "source": []
  }
 ],
 "metadata": {
  "kernelspec": {
   "display_name": "Python 3 (ipykernel)",
   "language": "python",
   "name": "python3"
  },
  "language_info": {
   "codemirror_mode": {
    "name": "ipython",
    "version": 3
   },
   "file_extension": ".py",
   "mimetype": "text/x-python",
   "name": "python",
   "nbconvert_exporter": "python",
   "pygments_lexer": "ipython3",
   "version": "3.7.3"
  }
 },
 "nbformat": 4,
 "nbformat_minor": 5
}
